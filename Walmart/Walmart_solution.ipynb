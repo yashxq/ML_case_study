{
 "cells": [
  {
   "cell_type": "code",
   "execution_count": 79,
   "id": "2e47742c",
   "metadata": {},
   "outputs": [],
   "source": [
    "import pandas as pd\n",
    "import numpy as np\n",
    "import matplotlib.pyplot as plt\n",
    "import seaborn as sbn\n",
    "from scipy import stats"
   ]
  },
  {
   "cell_type": "code",
   "execution_count": 23,
   "id": "fc0573cd",
   "metadata": {},
   "outputs": [],
   "source": [
    "data = pd.read_csv(\"walmart_data.csv\")\n"
   ]
  },
  {
   "cell_type": "code",
   "execution_count": null,
   "id": "fc81fd12",
   "metadata": {},
   "outputs": [],
   "source": []
  },
  {
   "cell_type": "code",
   "execution_count": 24,
   "id": "012da8cc",
   "metadata": {},
   "outputs": [
    {
     "name": "stdout",
     "output_type": "stream",
     "text": [
      "<class 'pandas.core.frame.DataFrame'>\n",
      "RangeIndex: 130618 entries, 0 to 130617\n",
      "Data columns (total 10 columns):\n",
      " #   Column                      Non-Null Count   Dtype  \n",
      "---  ------                      --------------   -----  \n",
      " 0   User_ID                     130618 non-null  int64  \n",
      " 1   Product_ID                  130618 non-null  object \n",
      " 2   Gender                      130618 non-null  object \n",
      " 3   Age                         130618 non-null  object \n",
      " 4   Occupation                  130618 non-null  int64  \n",
      " 5   City_Category               130618 non-null  object \n",
      " 6   Stay_In_Current_City_Years  130618 non-null  object \n",
      " 7   Marital_Status              130617 non-null  float64\n",
      " 8   Product_Category            130617 non-null  float64\n",
      " 9   Purchase                    130617 non-null  float64\n",
      "dtypes: float64(3), int64(2), object(5)\n",
      "memory usage: 10.0+ MB\n"
     ]
    }
   ],
   "source": [
    "data.info()"
   ]
  },
  {
   "cell_type": "code",
   "execution_count": 25,
   "id": "91ce46b7",
   "metadata": {},
   "outputs": [
    {
     "data": {
      "text/html": [
       "<div>\n",
       "<style scoped>\n",
       "    .dataframe tbody tr th:only-of-type {\n",
       "        vertical-align: middle;\n",
       "    }\n",
       "\n",
       "    .dataframe tbody tr th {\n",
       "        vertical-align: top;\n",
       "    }\n",
       "\n",
       "    .dataframe thead th {\n",
       "        text-align: right;\n",
       "    }\n",
       "</style>\n",
       "<table border=\"1\" class=\"dataframe\">\n",
       "  <thead>\n",
       "    <tr style=\"text-align: right;\">\n",
       "      <th></th>\n",
       "      <th>User_ID</th>\n",
       "      <th>Product_ID</th>\n",
       "      <th>Gender</th>\n",
       "      <th>Age</th>\n",
       "      <th>Occupation</th>\n",
       "      <th>City_Category</th>\n",
       "      <th>Stay_In_Current_City_Years</th>\n",
       "      <th>Marital_Status</th>\n",
       "      <th>Product_Category</th>\n",
       "      <th>Purchase</th>\n",
       "    </tr>\n",
       "  </thead>\n",
       "  <tbody>\n",
       "    <tr>\n",
       "      <th>130613</th>\n",
       "      <td>1002053</td>\n",
       "      <td>P00367142</td>\n",
       "      <td>M</td>\n",
       "      <td>46-50</td>\n",
       "      <td>11</td>\n",
       "      <td>C</td>\n",
       "      <td>1</td>\n",
       "      <td>1.0</td>\n",
       "      <td>11.0</td>\n",
       "      <td>6174.0</td>\n",
       "    </tr>\n",
       "    <tr>\n",
       "      <th>130614</th>\n",
       "      <td>1002054</td>\n",
       "      <td>P00336942</td>\n",
       "      <td>M</td>\n",
       "      <td>26-35</td>\n",
       "      <td>12</td>\n",
       "      <td>C</td>\n",
       "      <td>4+</td>\n",
       "      <td>0.0</td>\n",
       "      <td>5.0</td>\n",
       "      <td>5455.0</td>\n",
       "    </tr>\n",
       "    <tr>\n",
       "      <th>130615</th>\n",
       "      <td>1002054</td>\n",
       "      <td>P00205642</td>\n",
       "      <td>M</td>\n",
       "      <td>26-35</td>\n",
       "      <td>12</td>\n",
       "      <td>C</td>\n",
       "      <td>4+</td>\n",
       "      <td>0.0</td>\n",
       "      <td>5.0</td>\n",
       "      <td>3608.0</td>\n",
       "    </tr>\n",
       "    <tr>\n",
       "      <th>130616</th>\n",
       "      <td>1002054</td>\n",
       "      <td>P00228042</td>\n",
       "      <td>M</td>\n",
       "      <td>26-35</td>\n",
       "      <td>12</td>\n",
       "      <td>C</td>\n",
       "      <td>4+</td>\n",
       "      <td>0.0</td>\n",
       "      <td>5.0</td>\n",
       "      <td>3581.0</td>\n",
       "    </tr>\n",
       "    <tr>\n",
       "      <th>130617</th>\n",
       "      <td>1002054</td>\n",
       "      <td>P00217942</td>\n",
       "      <td>M</td>\n",
       "      <td>26-35</td>\n",
       "      <td>12</td>\n",
       "      <td>C</td>\n",
       "      <td>4+</td>\n",
       "      <td>NaN</td>\n",
       "      <td>NaN</td>\n",
       "      <td>NaN</td>\n",
       "    </tr>\n",
       "  </tbody>\n",
       "</table>\n",
       "</div>"
      ],
      "text/plain": [
       "        User_ID Product_ID Gender    Age  Occupation City_Category  \\\n",
       "130613  1002053  P00367142      M  46-50          11             C   \n",
       "130614  1002054  P00336942      M  26-35          12             C   \n",
       "130615  1002054  P00205642      M  26-35          12             C   \n",
       "130616  1002054  P00228042      M  26-35          12             C   \n",
       "130617  1002054  P00217942      M  26-35          12             C   \n",
       "\n",
       "       Stay_In_Current_City_Years  Marital_Status  Product_Category  Purchase  \n",
       "130613                          1             1.0              11.0    6174.0  \n",
       "130614                         4+             0.0               5.0    5455.0  \n",
       "130615                         4+             0.0               5.0    3608.0  \n",
       "130616                         4+             0.0               5.0    3581.0  \n",
       "130617                         4+             NaN               NaN       NaN  "
      ]
     },
     "execution_count": 25,
     "metadata": {},
     "output_type": "execute_result"
    }
   ],
   "source": [
    "data.tail()"
   ]
  },
  {
   "cell_type": "code",
   "execution_count": 26,
   "id": "92d033bd",
   "metadata": {},
   "outputs": [],
   "source": [
    "data = data.dropna()"
   ]
  },
  {
   "cell_type": "code",
   "execution_count": 27,
   "id": "9ee2d9d9",
   "metadata": {},
   "outputs": [
    {
     "data": {
      "text/plain": [
       "Index(['User_ID', 'Product_ID', 'Gender', 'Age', 'Occupation', 'City_Category',\n",
       "       'Stay_In_Current_City_Years', 'Marital_Status', 'Product_Category',\n",
       "       'Purchase'],\n",
       "      dtype='object')"
      ]
     },
     "execution_count": 27,
     "metadata": {},
     "output_type": "execute_result"
    }
   ],
   "source": [
    "data.columns\n"
   ]
  },
  {
   "cell_type": "code",
   "execution_count": 28,
   "id": "36352b65",
   "metadata": {},
   "outputs": [
    {
     "data": {
      "text/html": [
       "<div>\n",
       "<style scoped>\n",
       "    .dataframe tbody tr th:only-of-type {\n",
       "        vertical-align: middle;\n",
       "    }\n",
       "\n",
       "    .dataframe tbody tr th {\n",
       "        vertical-align: top;\n",
       "    }\n",
       "\n",
       "    .dataframe thead th {\n",
       "        text-align: right;\n",
       "    }\n",
       "</style>\n",
       "<table border=\"1\" class=\"dataframe\">\n",
       "  <thead>\n",
       "    <tr style=\"text-align: right;\">\n",
       "      <th></th>\n",
       "      <th>User_ID</th>\n",
       "      <th>Product_ID</th>\n",
       "      <th>Gender</th>\n",
       "      <th>Age</th>\n",
       "      <th>Occupation</th>\n",
       "      <th>City_Category</th>\n",
       "      <th>Stay_In_Current_City_Years</th>\n",
       "      <th>Marital_Status</th>\n",
       "      <th>Product_Category</th>\n",
       "      <th>Purchase</th>\n",
       "    </tr>\n",
       "  </thead>\n",
       "  <tbody>\n",
       "    <tr>\n",
       "      <th>0</th>\n",
       "      <td>1000001</td>\n",
       "      <td>P00069042</td>\n",
       "      <td>F</td>\n",
       "      <td>0-17</td>\n",
       "      <td>10</td>\n",
       "      <td>A</td>\n",
       "      <td>2</td>\n",
       "      <td>0.0</td>\n",
       "      <td>3.0</td>\n",
       "      <td>8370.0</td>\n",
       "    </tr>\n",
       "    <tr>\n",
       "      <th>1</th>\n",
       "      <td>1000001</td>\n",
       "      <td>P00248942</td>\n",
       "      <td>F</td>\n",
       "      <td>0-17</td>\n",
       "      <td>10</td>\n",
       "      <td>A</td>\n",
       "      <td>2</td>\n",
       "      <td>0.0</td>\n",
       "      <td>1.0</td>\n",
       "      <td>15200.0</td>\n",
       "    </tr>\n",
       "    <tr>\n",
       "      <th>2</th>\n",
       "      <td>1000001</td>\n",
       "      <td>P00087842</td>\n",
       "      <td>F</td>\n",
       "      <td>0-17</td>\n",
       "      <td>10</td>\n",
       "      <td>A</td>\n",
       "      <td>2</td>\n",
       "      <td>0.0</td>\n",
       "      <td>12.0</td>\n",
       "      <td>1422.0</td>\n",
       "    </tr>\n",
       "    <tr>\n",
       "      <th>3</th>\n",
       "      <td>1000001</td>\n",
       "      <td>P00085442</td>\n",
       "      <td>F</td>\n",
       "      <td>0-17</td>\n",
       "      <td>10</td>\n",
       "      <td>A</td>\n",
       "      <td>2</td>\n",
       "      <td>0.0</td>\n",
       "      <td>12.0</td>\n",
       "      <td>1057.0</td>\n",
       "    </tr>\n",
       "    <tr>\n",
       "      <th>4</th>\n",
       "      <td>1000002</td>\n",
       "      <td>P00285442</td>\n",
       "      <td>M</td>\n",
       "      <td>55+</td>\n",
       "      <td>16</td>\n",
       "      <td>C</td>\n",
       "      <td>4+</td>\n",
       "      <td>0.0</td>\n",
       "      <td>8.0</td>\n",
       "      <td>7969.0</td>\n",
       "    </tr>\n",
       "    <tr>\n",
       "      <th>...</th>\n",
       "      <td>...</td>\n",
       "      <td>...</td>\n",
       "      <td>...</td>\n",
       "      <td>...</td>\n",
       "      <td>...</td>\n",
       "      <td>...</td>\n",
       "      <td>...</td>\n",
       "      <td>...</td>\n",
       "      <td>...</td>\n",
       "      <td>...</td>\n",
       "    </tr>\n",
       "    <tr>\n",
       "      <th>130612</th>\n",
       "      <td>1002051</td>\n",
       "      <td>P00144642</td>\n",
       "      <td>M</td>\n",
       "      <td>36-45</td>\n",
       "      <td>7</td>\n",
       "      <td>C</td>\n",
       "      <td>2</td>\n",
       "      <td>0.0</td>\n",
       "      <td>1.0</td>\n",
       "      <td>15190.0</td>\n",
       "    </tr>\n",
       "    <tr>\n",
       "      <th>130613</th>\n",
       "      <td>1002053</td>\n",
       "      <td>P00367142</td>\n",
       "      <td>M</td>\n",
       "      <td>46-50</td>\n",
       "      <td>11</td>\n",
       "      <td>C</td>\n",
       "      <td>1</td>\n",
       "      <td>1.0</td>\n",
       "      <td>11.0</td>\n",
       "      <td>6174.0</td>\n",
       "    </tr>\n",
       "    <tr>\n",
       "      <th>130614</th>\n",
       "      <td>1002054</td>\n",
       "      <td>P00336942</td>\n",
       "      <td>M</td>\n",
       "      <td>26-35</td>\n",
       "      <td>12</td>\n",
       "      <td>C</td>\n",
       "      <td>4+</td>\n",
       "      <td>0.0</td>\n",
       "      <td>5.0</td>\n",
       "      <td>5455.0</td>\n",
       "    </tr>\n",
       "    <tr>\n",
       "      <th>130615</th>\n",
       "      <td>1002054</td>\n",
       "      <td>P00205642</td>\n",
       "      <td>M</td>\n",
       "      <td>26-35</td>\n",
       "      <td>12</td>\n",
       "      <td>C</td>\n",
       "      <td>4+</td>\n",
       "      <td>0.0</td>\n",
       "      <td>5.0</td>\n",
       "      <td>3608.0</td>\n",
       "    </tr>\n",
       "    <tr>\n",
       "      <th>130616</th>\n",
       "      <td>1002054</td>\n",
       "      <td>P00228042</td>\n",
       "      <td>M</td>\n",
       "      <td>26-35</td>\n",
       "      <td>12</td>\n",
       "      <td>C</td>\n",
       "      <td>4+</td>\n",
       "      <td>0.0</td>\n",
       "      <td>5.0</td>\n",
       "      <td>3581.0</td>\n",
       "    </tr>\n",
       "  </tbody>\n",
       "</table>\n",
       "<p>130617 rows × 10 columns</p>\n",
       "</div>"
      ],
      "text/plain": [
       "        User_ID Product_ID Gender    Age  Occupation City_Category  \\\n",
       "0       1000001  P00069042      F   0-17          10             A   \n",
       "1       1000001  P00248942      F   0-17          10             A   \n",
       "2       1000001  P00087842      F   0-17          10             A   \n",
       "3       1000001  P00085442      F   0-17          10             A   \n",
       "4       1000002  P00285442      M    55+          16             C   \n",
       "...         ...        ...    ...    ...         ...           ...   \n",
       "130612  1002051  P00144642      M  36-45           7             C   \n",
       "130613  1002053  P00367142      M  46-50          11             C   \n",
       "130614  1002054  P00336942      M  26-35          12             C   \n",
       "130615  1002054  P00205642      M  26-35          12             C   \n",
       "130616  1002054  P00228042      M  26-35          12             C   \n",
       "\n",
       "       Stay_In_Current_City_Years  Marital_Status  Product_Category  Purchase  \n",
       "0                               2             0.0               3.0    8370.0  \n",
       "1                               2             0.0               1.0   15200.0  \n",
       "2                               2             0.0              12.0    1422.0  \n",
       "3                               2             0.0              12.0    1057.0  \n",
       "4                              4+             0.0               8.0    7969.0  \n",
       "...                           ...             ...               ...       ...  \n",
       "130612                          2             0.0               1.0   15190.0  \n",
       "130613                          1             1.0              11.0    6174.0  \n",
       "130614                         4+             0.0               5.0    5455.0  \n",
       "130615                         4+             0.0               5.0    3608.0  \n",
       "130616                         4+             0.0               5.0    3581.0  \n",
       "\n",
       "[130617 rows x 10 columns]"
      ]
     },
     "execution_count": 28,
     "metadata": {},
     "output_type": "execute_result"
    }
   ],
   "source": [
    "data"
   ]
  },
  {
   "cell_type": "code",
   "execution_count": 29,
   "id": "5e82699e",
   "metadata": {},
   "outputs": [
    {
     "data": {
      "text/plain": [
       "1001680    303\n",
       "1001941    261\n",
       "1000889    250\n",
       "1001181    249\n",
       "1004277    221\n",
       "          ... \n",
       "1003275      1\n",
       "1000364      1\n",
       "1004839      1\n",
       "1000745      1\n",
       "1001431      1\n",
       "Name: User_ID, Length: 5855, dtype: int64"
      ]
     },
     "execution_count": 29,
     "metadata": {},
     "output_type": "execute_result"
    }
   ],
   "source": [
    "data.User_ID.value_counts()"
   ]
  },
  {
   "cell_type": "code",
   "execution_count": 30,
   "id": "318d2001",
   "metadata": {},
   "outputs": [
    {
     "data": {
      "text/plain": [
       "array([1000001, 1000002, 1000003, ..., 1001906, 1001991, 1002045],\n",
       "      dtype=int64)"
      ]
     },
     "execution_count": 30,
     "metadata": {},
     "output_type": "execute_result"
    }
   ],
   "source": [
    "data.User_ID.unique()"
   ]
  },
  {
   "cell_type": "code",
   "execution_count": 31,
   "id": "0200b574",
   "metadata": {},
   "outputs": [],
   "source": [
    "data_per_user = data.groupby(['User_ID', 'Gender', 'Age', 'Occupation', 'City_Category',\n",
    "       'Stay_In_Current_City_Years', 'Marital_Status'\n",
    "       ])['Purchase'].sum().reset_index()"
   ]
  },
  {
   "cell_type": "code",
   "execution_count": null,
   "id": "53515d22",
   "metadata": {},
   "outputs": [],
   "source": []
  },
  {
   "cell_type": "code",
   "execution_count": null,
   "id": "d31be2e5",
   "metadata": {},
   "outputs": [],
   "source": []
  },
  {
   "cell_type": "code",
   "execution_count": 34,
   "id": "2cf2ea51",
   "metadata": {},
   "outputs": [],
   "source": [
    "#data.groupby(['User_ID']).sum()['Purchase']"
   ]
  },
  {
   "cell_type": "code",
   "execution_count": 35,
   "id": "1054395f",
   "metadata": {},
   "outputs": [],
   "source": [
    "#data[\"total_sum\"] = data[data.Purchase.sum()]\n",
    "#data[\"Product_Category_sum\"]=data['Product_Category'].groupby(data['User_ID']).sum()\n",
    "# Check out why above not working"
   ]
  },
  {
   "cell_type": "code",
   "execution_count": 36,
   "id": "3bb100b4",
   "metadata": {},
   "outputs": [
    {
     "data": {
      "text/html": [
       "<div>\n",
       "<style scoped>\n",
       "    .dataframe tbody tr th:only-of-type {\n",
       "        vertical-align: middle;\n",
       "    }\n",
       "\n",
       "    .dataframe tbody tr th {\n",
       "        vertical-align: top;\n",
       "    }\n",
       "\n",
       "    .dataframe thead th {\n",
       "        text-align: right;\n",
       "    }\n",
       "</style>\n",
       "<table border=\"1\" class=\"dataframe\">\n",
       "  <thead>\n",
       "    <tr style=\"text-align: right;\">\n",
       "      <th></th>\n",
       "      <th>User_ID</th>\n",
       "      <th>Gender</th>\n",
       "      <th>Age</th>\n",
       "      <th>Occupation</th>\n",
       "      <th>City_Category</th>\n",
       "      <th>Stay_In_Current_City_Years</th>\n",
       "      <th>Marital_Status</th>\n",
       "      <th>Purchase</th>\n",
       "    </tr>\n",
       "  </thead>\n",
       "  <tbody>\n",
       "    <tr>\n",
       "      <th>0</th>\n",
       "      <td>1000001</td>\n",
       "      <td>F</td>\n",
       "      <td>0-17</td>\n",
       "      <td>10</td>\n",
       "      <td>A</td>\n",
       "      <td>2</td>\n",
       "      <td>0.0</td>\n",
       "      <td>104349.0</td>\n",
       "    </tr>\n",
       "    <tr>\n",
       "      <th>1</th>\n",
       "      <td>1000002</td>\n",
       "      <td>M</td>\n",
       "      <td>55+</td>\n",
       "      <td>16</td>\n",
       "      <td>C</td>\n",
       "      <td>4+</td>\n",
       "      <td>0.0</td>\n",
       "      <td>130081.0</td>\n",
       "    </tr>\n",
       "    <tr>\n",
       "      <th>2</th>\n",
       "      <td>1000003</td>\n",
       "      <td>M</td>\n",
       "      <td>26-35</td>\n",
       "      <td>15</td>\n",
       "      <td>A</td>\n",
       "      <td>3</td>\n",
       "      <td>0.0</td>\n",
       "      <td>100271.0</td>\n",
       "    </tr>\n",
       "    <tr>\n",
       "      <th>3</th>\n",
       "      <td>1000004</td>\n",
       "      <td>M</td>\n",
       "      <td>46-50</td>\n",
       "      <td>7</td>\n",
       "      <td>B</td>\n",
       "      <td>2</td>\n",
       "      <td>1.0</td>\n",
       "      <td>66607.0</td>\n",
       "    </tr>\n",
       "    <tr>\n",
       "      <th>4</th>\n",
       "      <td>1000005</td>\n",
       "      <td>M</td>\n",
       "      <td>26-35</td>\n",
       "      <td>20</td>\n",
       "      <td>A</td>\n",
       "      <td>1</td>\n",
       "      <td>1.0</td>\n",
       "      <td>177802.0</td>\n",
       "    </tr>\n",
       "  </tbody>\n",
       "</table>\n",
       "</div>"
      ],
      "text/plain": [
       "   User_ID Gender    Age  Occupation City_Category Stay_In_Current_City_Years  \\\n",
       "0  1000001      F   0-17          10             A                          2   \n",
       "1  1000002      M    55+          16             C                         4+   \n",
       "2  1000003      M  26-35          15             A                          3   \n",
       "3  1000004      M  46-50           7             B                          2   \n",
       "4  1000005      M  26-35          20             A                          1   \n",
       "\n",
       "   Marital_Status  Purchase  \n",
       "0             0.0  104349.0  \n",
       "1             0.0  130081.0  \n",
       "2             0.0  100271.0  \n",
       "3             1.0   66607.0  \n",
       "4             1.0  177802.0  "
      ]
     },
     "execution_count": 36,
     "metadata": {},
     "output_type": "execute_result"
    }
   ],
   "source": [
    "data_per_user.head()"
   ]
  },
  {
   "cell_type": "code",
   "execution_count": 37,
   "id": "2d631a21",
   "metadata": {},
   "outputs": [
    {
     "data": {
      "text/plain": [
       "0       104349.0\n",
       "1       130081.0\n",
       "2       100271.0\n",
       "3        66607.0\n",
       "4       177802.0\n",
       "          ...   \n",
       "5850    202905.0\n",
       "5851    747368.0\n",
       "5852    336439.0\n",
       "5853    138801.0\n",
       "5854    290186.0\n",
       "Name: Purchase, Length: 5855, dtype: float64"
      ]
     },
     "execution_count": 37,
     "metadata": {},
     "output_type": "execute_result"
    }
   ],
   "source": [
    "data_per_user['Purchase']"
   ]
  },
  {
   "cell_type": "code",
   "execution_count": null,
   "id": "e85e8514",
   "metadata": {},
   "outputs": [],
   "source": []
  },
  {
   "cell_type": "code",
   "execution_count": 56,
   "id": "aa829b6d",
   "metadata": {},
   "outputs": [
    {
     "data": {
      "text/html": [
       "<div>\n",
       "<style scoped>\n",
       "    .dataframe tbody tr th:only-of-type {\n",
       "        vertical-align: middle;\n",
       "    }\n",
       "\n",
       "    .dataframe tbody tr th {\n",
       "        vertical-align: top;\n",
       "    }\n",
       "\n",
       "    .dataframe thead th {\n",
       "        text-align: right;\n",
       "    }\n",
       "</style>\n",
       "<table border=\"1\" class=\"dataframe\">\n",
       "  <thead>\n",
       "    <tr style=\"text-align: right;\">\n",
       "      <th></th>\n",
       "      <th>User_ID</th>\n",
       "      <th>Occupation</th>\n",
       "      <th>Marital_Status</th>\n",
       "      <th>Purchase</th>\n",
       "    </tr>\n",
       "  </thead>\n",
       "  <tbody>\n",
       "    <tr>\n",
       "      <th>count</th>\n",
       "      <td>5.855000e+03</td>\n",
       "      <td>5855.000000</td>\n",
       "      <td>5855.000000</td>\n",
       "      <td>5.855000e+03</td>\n",
       "    </tr>\n",
       "    <tr>\n",
       "      <th>mean</th>\n",
       "      <td>1.003021e+06</td>\n",
       "      <td>8.167720</td>\n",
       "      <td>0.419641</td>\n",
       "      <td>2.073762e+05</td>\n",
       "    </tr>\n",
       "    <tr>\n",
       "      <th>std</th>\n",
       "      <td>1.743399e+03</td>\n",
       "      <td>6.327948</td>\n",
       "      <td>0.493542</td>\n",
       "      <td>2.362591e+05</td>\n",
       "    </tr>\n",
       "    <tr>\n",
       "      <th>min</th>\n",
       "      <td>1.000001e+06</td>\n",
       "      <td>0.000000</td>\n",
       "      <td>0.000000</td>\n",
       "      <td>7.630000e+02</td>\n",
       "    </tr>\n",
       "    <tr>\n",
       "      <th>25%</th>\n",
       "      <td>1.001514e+06</td>\n",
       "      <td>3.000000</td>\n",
       "      <td>0.000000</td>\n",
       "      <td>5.590450e+04</td>\n",
       "    </tr>\n",
       "    <tr>\n",
       "      <th>50%</th>\n",
       "      <td>1.003022e+06</td>\n",
       "      <td>7.000000</td>\n",
       "      <td>0.000000</td>\n",
       "      <td>1.239290e+05</td>\n",
       "    </tr>\n",
       "    <tr>\n",
       "      <th>75%</th>\n",
       "      <td>1.004526e+06</td>\n",
       "      <td>14.000000</td>\n",
       "      <td>1.000000</td>\n",
       "      <td>2.682410e+05</td>\n",
       "    </tr>\n",
       "    <tr>\n",
       "      <th>max</th>\n",
       "      <td>1.006040e+06</td>\n",
       "      <td>20.000000</td>\n",
       "      <td>1.000000</td>\n",
       "      <td>2.596025e+06</td>\n",
       "    </tr>\n",
       "  </tbody>\n",
       "</table>\n",
       "</div>"
      ],
      "text/plain": [
       "            User_ID   Occupation  Marital_Status      Purchase\n",
       "count  5.855000e+03  5855.000000     5855.000000  5.855000e+03\n",
       "mean   1.003021e+06     8.167720        0.419641  2.073762e+05\n",
       "std    1.743399e+03     6.327948        0.493542  2.362591e+05\n",
       "min    1.000001e+06     0.000000        0.000000  7.630000e+02\n",
       "25%    1.001514e+06     3.000000        0.000000  5.590450e+04\n",
       "50%    1.003022e+06     7.000000        0.000000  1.239290e+05\n",
       "75%    1.004526e+06    14.000000        1.000000  2.682410e+05\n",
       "max    1.006040e+06    20.000000        1.000000  2.596025e+06"
      ]
     },
     "execution_count": 56,
     "metadata": {},
     "output_type": "execute_result"
    }
   ],
   "source": [
    "data_per_user.describe()"
   ]
  },
  {
   "cell_type": "code",
   "execution_count": 40,
   "id": "3df7da0e",
   "metadata": {},
   "outputs": [
    {
     "data": {
      "text/plain": [
       "M    4206\n",
       "F    1649\n",
       "Name: Gender, dtype: int64"
      ]
     },
     "execution_count": 40,
     "metadata": {},
     "output_type": "execute_result"
    }
   ],
   "source": [
    "data_per_user.Gender.value_counts()"
   ]
  },
  {
   "cell_type": "code",
   "execution_count": 41,
   "id": "d2012452",
   "metadata": {},
   "outputs": [
    {
     "data": {
      "text/plain": [
       "0.0    3398\n",
       "1.0    2457\n",
       "Name: Marital_Status, dtype: int64"
      ]
     },
     "execution_count": 41,
     "metadata": {},
     "output_type": "execute_result"
    }
   ],
   "source": [
    "data_per_user.Marital_Status.value_counts()"
   ]
  },
  {
   "cell_type": "code",
   "execution_count": 42,
   "id": "c6886f9e",
   "metadata": {},
   "outputs": [
    {
     "data": {
      "text/plain": [
       "4     17284\n",
       "0     16761\n",
       "7     13869\n",
       "1     11202\n",
       "17     9449\n",
       "20     8183\n",
       "12     7163\n",
       "14     6424\n",
       "2      6223\n",
       "16     6032\n",
       "6      4665\n",
       "3      4395\n",
       "10     3176\n",
       "15     2876\n",
       "11     2807\n",
       "5      2714\n",
       "19     2152\n",
       "13     1868\n",
       "18     1532\n",
       "9      1465\n",
       "8       377\n",
       "Name: Occupation, dtype: int64"
      ]
     },
     "execution_count": 42,
     "metadata": {},
     "output_type": "execute_result"
    }
   ],
   "source": [
    "data.Occupation.value_counts()"
   ]
  },
  {
   "cell_type": "code",
   "execution_count": 43,
   "id": "706869f1",
   "metadata": {},
   "outputs": [
    {
     "data": {
      "text/plain": [
       "C    3113\n",
       "B    1700\n",
       "A    1042\n",
       "Name: City_Category, dtype: int64"
      ]
     },
     "execution_count": 43,
     "metadata": {},
     "output_type": "execute_result"
    }
   ],
   "source": [
    "data_per_user.City_Category.value_counts()"
   ]
  },
  {
   "cell_type": "code",
   "execution_count": 47,
   "id": "6918800d",
   "metadata": {},
   "outputs": [
    {
     "data": {
      "text/html": [
       "<div>\n",
       "<style scoped>\n",
       "    .dataframe tbody tr th:only-of-type {\n",
       "        vertical-align: middle;\n",
       "    }\n",
       "\n",
       "    .dataframe tbody tr th {\n",
       "        vertical-align: top;\n",
       "    }\n",
       "\n",
       "    .dataframe thead th {\n",
       "        text-align: right;\n",
       "    }\n",
       "</style>\n",
       "<table border=\"1\" class=\"dataframe\">\n",
       "  <thead>\n",
       "    <tr style=\"text-align: right;\">\n",
       "      <th></th>\n",
       "      <th>count</th>\n",
       "      <th>mean</th>\n",
       "      <th>std</th>\n",
       "      <th>min</th>\n",
       "      <th>25%</th>\n",
       "      <th>50%</th>\n",
       "      <th>75%</th>\n",
       "      <th>max</th>\n",
       "    </tr>\n",
       "    <tr>\n",
       "      <th>Gender</th>\n",
       "      <th></th>\n",
       "      <th></th>\n",
       "      <th></th>\n",
       "      <th></th>\n",
       "      <th></th>\n",
       "      <th></th>\n",
       "      <th></th>\n",
       "      <th></th>\n",
       "    </tr>\n",
       "  </thead>\n",
       "  <tbody>\n",
       "    <tr>\n",
       "      <th>F</th>\n",
       "      <td>1649.0</td>\n",
       "      <td>170071.871437</td>\n",
       "      <td>200303.386048</td>\n",
       "      <td>956.0</td>\n",
       "      <td>48078.00</td>\n",
       "      <td>98416.0</td>\n",
       "      <td>204577.00</td>\n",
       "      <td>1628571.0</td>\n",
       "    </tr>\n",
       "    <tr>\n",
       "      <th>M</th>\n",
       "      <td>4206.0</td>\n",
       "      <td>222001.650499</td>\n",
       "      <td>247434.450305</td>\n",
       "      <td>763.0</td>\n",
       "      <td>60521.25</td>\n",
       "      <td>136430.5</td>\n",
       "      <td>290021.25</td>\n",
       "      <td>2596025.0</td>\n",
       "    </tr>\n",
       "  </tbody>\n",
       "</table>\n",
       "</div>"
      ],
      "text/plain": [
       "         count           mean            std    min       25%       50%  \\\n",
       "Gender                                                                    \n",
       "F       1649.0  170071.871437  200303.386048  956.0  48078.00   98416.0   \n",
       "M       4206.0  222001.650499  247434.450305  763.0  60521.25  136430.5   \n",
       "\n",
       "              75%        max  \n",
       "Gender                        \n",
       "F       204577.00  1628571.0  \n",
       "M       290021.25  2596025.0  "
      ]
     },
     "execution_count": 47,
     "metadata": {},
     "output_type": "execute_result"
    }
   ],
   "source": [
    "data_per_user.groupby('Gender')['Purchase'].describe()"
   ]
  },
  {
   "cell_type": "code",
   "execution_count": 164,
   "id": "60580df7",
   "metadata": {},
   "outputs": [],
   "source": [
    "data_per_user_sample = [data_per_user[data_per_user['Gender']=='M']['Purchase'].sample(1000).mean() for i in range(1000)]\n",
    "data_per_user_sample_female = [data_per_user[data_per_user['Gender']=='F']['Purchase'].sample(1000).mean() for i in range(1000)]"
   ]
  },
  {
   "cell_type": "code",
   "execution_count": 162,
   "id": "b108b12b",
   "metadata": {},
   "outputs": [],
   "source": [
    "lower_limit_male_peruser = pd.Series(data_per_user_sample).mean() - (pd.Series(data_per_user_sample).std()/np.sqrt(1000))*1.96\n",
    "upper_limit_male_peruser = pd.Series(data_per_user_sample).mean() + (pd.Series(data_per_user_sample).std()/np.sqrt(1000))*1.96"
   ]
  },
  {
   "cell_type": "code",
   "execution_count": 163,
   "id": "65439ad0",
   "metadata": {},
   "outputs": [
    {
     "data": {
      "text/plain": [
       "(221963.7458926181, 222794.83985138158)"
      ]
     },
     "execution_count": 163,
     "metadata": {},
     "output_type": "execute_result"
    }
   ],
   "source": [
    "lower_limit_male_peruser,upper_limit_male_peruser"
   ]
  },
  {
   "cell_type": "code",
   "execution_count": 165,
   "id": "3b4974ab",
   "metadata": {},
   "outputs": [
    {
     "data": {
      "text/plain": [
       "(169731.19268949417, 170228.04069450573)"
      ]
     },
     "execution_count": 165,
     "metadata": {},
     "output_type": "execute_result"
    }
   ],
   "source": [
    "lower_limit_female_peruser = pd.Series(data_per_user_sample_female).mean() - (pd.Series(data_per_user_sample_female).std()/np.sqrt(1000))*1.96\n",
    "upper_limit_female_peruser = pd.Series(data_per_user_sample_female).mean() + (pd.Series(data_per_user_sample_female).std()/np.sqrt(1000))*1.96\n",
    "lower_limit_female_peruser,upper_limit_female_peruser"
   ]
  },
  {
   "cell_type": "markdown",
   "id": "1c408ec3",
   "metadata": {},
   "source": [
    "Average Female Expenses is around  (169731.19, 170228.04) - When dealing with Every Individual Female with 95% confidence"
   ]
  },
  {
   "cell_type": "markdown",
   "id": "33465dc7",
   "metadata": {},
   "source": [
    "Average Male Expenses is (221963.74, 222794.83) - When dealing with Every Individual Male with 95% confidence"
   ]
  },
  {
   "cell_type": "raw",
   "id": "a2d093c9",
   "metadata": {},
   "source": [
    "As is subset of of main data this is representation/method to understand per User Bases"
   ]
  },
  {
   "cell_type": "code",
   "execution_count": 65,
   "id": "f8ddfbc5",
   "metadata": {},
   "outputs": [],
   "source": [
    "male_sample_means_individual = [data_per_user[data_per_user['Gender']=='M']['Purchase'].sample(1000).mean() for i in range(1000)]"
   ]
  },
  {
   "cell_type": "code",
   "execution_count": 66,
   "id": "a4f2e87a",
   "metadata": {},
   "outputs": [],
   "source": [
    "female_sample_means_individual = [data_per_user[data_per_user['Gender']=='F']['Purchase'].sample(1000).mean() for i in range(1000)]"
   ]
  },
  {
   "cell_type": "code",
   "execution_count": 67,
   "id": "07decda1",
   "metadata": {},
   "outputs": [
    {
     "data": {
      "text/plain": [
       "221866.415468"
      ]
     },
     "execution_count": 67,
     "metadata": {},
     "output_type": "execute_result"
    }
   ],
   "source": [
    "import statistics\n",
    "statistics.mean(male_sample_means_individual)"
   ]
  },
  {
   "cell_type": "code",
   "execution_count": 68,
   "id": "ad262ae6",
   "metadata": {},
   "outputs": [
    {
     "data": {
      "text/plain": [
       "170086.974787"
      ]
     },
     "execution_count": 68,
     "metadata": {},
     "output_type": "execute_result"
    }
   ],
   "source": [
    "statistics.mean(female_sample_means_individual)"
   ]
  },
  {
   "cell_type": "markdown",
   "id": "bc614ed0",
   "metadata": {},
   "source": [
    "# Looking at Data per transations"
   ]
  },
  {
   "cell_type": "code",
   "execution_count": 77,
   "id": "0158dc25",
   "metadata": {},
   "outputs": [],
   "source": [
    "df=data"
   ]
  },
  {
   "cell_type": "code",
   "execution_count": 84,
   "id": "a5879917",
   "metadata": {},
   "outputs": [
    {
     "data": {
      "text/plain": [
       "<AxesSubplot:xlabel='Gender', ylabel='Purchase'>"
      ]
     },
     "execution_count": 84,
     "metadata": {},
     "output_type": "execute_result"
    },
    {
     "data": {
      "image/png": "[encoded data removed]",
      "text/plain": [
       "<Figure size 432x288 with 1 Axes>"
      ]
     },
     "metadata": {
      "needs_background": "light"
     },
     "output_type": "display_data"
    }
   ],
   "source": [
    "sbn.boxplot(x='Gender',y='Purchase',data=df)"
   ]
  },
  {
   "cell_type": "code",
   "execution_count": 86,
   "id": "4165cd92",
   "metadata": {},
   "outputs": [
    {
     "data": {
      "text/plain": [
       "M    0.7553\n",
       "F    0.2447\n",
       "Name: Gender, dtype: float64"
      ]
     },
     "execution_count": 86,
     "metadata": {},
     "output_type": "execute_result"
    }
   ],
   "source": [
    "df['Gender'].value_counts(normalize=True)"
   ]
  },
  {
   "cell_type": "code",
   "execution_count": 87,
   "id": "f261938f",
   "metadata": {},
   "outputs": [
    {
     "data": {
      "text/plain": [
       "(array([31962.,     0.,     0.,     0.,     0.,     0.,     0.,     0.,\n",
       "            0., 98655.]),\n",
       " array([0. , 0.1, 0.2, 0.3, 0.4, 0.5, 0.6, 0.7, 0.8, 0.9, 1. ]),\n",
       " <BarContainer object of 10 artists>)"
      ]
     },
     "execution_count": 87,
     "metadata": {},
     "output_type": "execute_result"
    },
    {
     "data": {
      "image/png": "[encoded data removed]",
      "text/plain": [
       "<Figure size 432x288 with 1 Axes>"
      ]
     },
     "metadata": {
      "needs_background": "light"
     },
     "output_type": "display_data"
    }
   ],
   "source": [
    "plt.hist(df['Gender'])"
   ]
  },
  {
   "cell_type": "code",
   "execution_count": 88,
   "id": "08f46a2a",
   "metadata": {},
   "outputs": [
    {
     "data": {
      "text/plain": [
       "<AxesSubplot:xlabel='Gender', ylabel='Count'>"
      ]
     },
     "execution_count": 88,
     "metadata": {},
     "output_type": "execute_result"
    },
    {
     "data": {
      "image/png": "[encoded data removed]",
      "text/plain": [
       "<Figure size 432x288 with 1 Axes>"
      ]
     },
     "metadata": {
      "needs_background": "light"
     },
     "output_type": "display_data"
    }
   ],
   "source": [
    "sbn.histplot(df['Gender'])"
   ]
  },
  {
   "cell_type": "code",
   "execution_count": 93,
   "id": "9ba2247b",
   "metadata": {},
   "outputs": [
    {
     "data": {
      "text/plain": [
       "<seaborn.axisgrid.FacetGrid at 0x152f4f8a7c0>"
      ]
     },
     "execution_count": 93,
     "metadata": {},
     "output_type": "execute_result"
    },
    {
     "data": {
      "image/png": "[encoded data removed]",
      "text/plain": [
       "<Figure size 404.875x360 with 1 Axes>"
      ]
     },
     "metadata": {
      "needs_background": "light"
     },
     "output_type": "display_data"
    }
   ],
   "source": [
    "sbn.displot(data=df,x='Purchase',hue='Gender', bins=25)  "
   ]
  },
  {
   "cell_type": "code",
   "execution_count": 94,
   "id": "fcfac2db",
   "metadata": {},
   "outputs": [
    {
     "data": {
      "text/html": [
       "<div>\n",
       "<style scoped>\n",
       "    .dataframe tbody tr th:only-of-type {\n",
       "        vertical-align: middle;\n",
       "    }\n",
       "\n",
       "    .dataframe tbody tr th {\n",
       "        vertical-align: top;\n",
       "    }\n",
       "\n",
       "    .dataframe thead th {\n",
       "        text-align: right;\n",
       "    }\n",
       "</style>\n",
       "<table border=\"1\" class=\"dataframe\">\n",
       "  <thead>\n",
       "    <tr style=\"text-align: right;\">\n",
       "      <th></th>\n",
       "      <th>count</th>\n",
       "      <th>mean</th>\n",
       "      <th>std</th>\n",
       "      <th>min</th>\n",
       "      <th>25%</th>\n",
       "      <th>50%</th>\n",
       "      <th>75%</th>\n",
       "      <th>max</th>\n",
       "    </tr>\n",
       "    <tr>\n",
       "      <th>Gender</th>\n",
       "      <th></th>\n",
       "      <th></th>\n",
       "      <th></th>\n",
       "      <th></th>\n",
       "      <th></th>\n",
       "      <th></th>\n",
       "      <th></th>\n",
       "      <th></th>\n",
       "    </tr>\n",
       "  </thead>\n",
       "  <tbody>\n",
       "    <tr>\n",
       "      <th>F</th>\n",
       "      <td>31962.0</td>\n",
       "      <td>8774.435767</td>\n",
       "      <td>4694.972393</td>\n",
       "      <td>188.0</td>\n",
       "      <td>5448.0</td>\n",
       "      <td>7922.0</td>\n",
       "      <td>11413.0</td>\n",
       "      <td>23948.0</td>\n",
       "    </tr>\n",
       "    <tr>\n",
       "      <th>M</th>\n",
       "      <td>98655.0</td>\n",
       "      <td>9464.689494</td>\n",
       "      <td>5057.560677</td>\n",
       "      <td>185.0</td>\n",
       "      <td>5881.0</td>\n",
       "      <td>8099.0</td>\n",
       "      <td>12475.0</td>\n",
       "      <td>23961.0</td>\n",
       "    </tr>\n",
       "  </tbody>\n",
       "</table>\n",
       "</div>"
      ],
      "text/plain": [
       "          count         mean          std    min     25%     50%      75%  \\\n",
       "Gender                                                                      \n",
       "F       31962.0  8774.435767  4694.972393  188.0  5448.0  7922.0  11413.0   \n",
       "M       98655.0  9464.689494  5057.560677  185.0  5881.0  8099.0  12475.0   \n",
       "\n",
       "            max  \n",
       "Gender           \n",
       "F       23948.0  \n",
       "M       23961.0  "
      ]
     },
     "execution_count": 94,
     "metadata": {},
     "output_type": "execute_result"
    }
   ],
   "source": [
    "df.groupby('Gender')['Purchase'].describe()"
   ]
  },
  {
   "cell_type": "code",
   "execution_count": null,
   "id": "8fdb3553",
   "metadata": {},
   "outputs": [],
   "source": []
  },
  {
   "cell_type": "code",
   "execution_count": null,
   "id": "d1ef3ae6",
   "metadata": {},
   "outputs": [],
   "source": []
  },
  {
   "cell_type": "code",
   "execution_count": 70,
   "id": "1431c19c",
   "metadata": {},
   "outputs": [],
   "source": [
    "male_sample_means = [data[data['Gender']=='M']['Purchase'].sample(1000).mean() for i in range(1000)]"
   ]
  },
  {
   "cell_type": "code",
   "execution_count": 71,
   "id": "de925ac0",
   "metadata": {},
   "outputs": [],
   "source": [
    "female_sample_means = [data[data['Gender']=='F']['Purchase'].sample(1000).mean() for i in range(1000)]"
   ]
  },
  {
   "cell_type": "code",
   "execution_count": 143,
   "id": "ffc7b026",
   "metadata": {},
   "outputs": [
    {
     "data": {
      "image/png": "[encoded data removed]",
      "text/plain": [
       "<Figure size 360x360 with 1 Axes>"
      ]
     },
     "metadata": {
      "needs_background": "light"
     },
     "output_type": "display_data"
    }
   ],
   "source": [
    "am = sbn.displot(male_sample_means, bins=50,)\n",
    "am.set(xlabel='Male Purchase Distribution', ylabel='Count')\n",
    "plt.show()"
   ]
  },
  {
   "cell_type": "code",
   "execution_count": 142,
   "id": "4b7ab904",
   "metadata": {},
   "outputs": [
    {
     "data": {
      "image/png": "[encoded data removed]",
      "text/plain": [
       "<Figure size 360x360 with 1 Axes>"
      ]
     },
     "metadata": {
      "needs_background": "light"
     },
     "output_type": "display_data"
    }
   ],
   "source": [
    "ax=sbn.displot(female_sample_means, bins=50,color='Green')\n",
    "ax.set(xlabel='Female Purchase Distribution', ylabel='Count')\n",
    "plt.show()"
   ]
  },
  {
   "cell_type": "code",
   "execution_count": 102,
   "id": "4487181f",
   "metadata": {},
   "outputs": [
    {
     "data": {
      "text/plain": [
       "9465.927821"
      ]
     },
     "execution_count": 102,
     "metadata": {},
     "output_type": "execute_result"
    }
   ],
   "source": [
    "pd.Series(male_sample_means).mean()"
   ]
  },
  {
   "cell_type": "code",
   "execution_count": 103,
   "id": "e4614550",
   "metadata": {},
   "outputs": [
    {
     "data": {
      "text/plain": [
       "155.17173073371933"
      ]
     },
     "execution_count": 103,
     "metadata": {},
     "output_type": "execute_result"
    }
   ],
   "source": [
    "pd.Series(male_sample_means).std()"
   ]
  },
  {
   "cell_type": "code",
   "execution_count": null,
   "id": "c7203167",
   "metadata": {},
   "outputs": [],
   "source": []
  },
  {
   "cell_type": "raw",
   "id": "3bea5ca4",
   "metadata": {},
   "source": [
    "# tolerate = 5 percentage => alpha = 0.05 - > end will be apha/2 - 0.025 - z-score of 0.025 is 1.96 = 1.9+0.06"
   ]
  },
  {
   "cell_type": "raw",
   "id": "015c19ff",
   "metadata": {},
   "source": [
    "#lower limit x(mean) - (std/sqrt(n))*z-score Calculating for 99.5 - one end wil be 0.025 "
   ]
  },
  {
   "cell_type": "code",
   "execution_count": 115,
   "id": "b1eadb34",
   "metadata": {},
   "outputs": [],
   "source": [
    "lower_limit=pd.Series(male_sample_means).mean() - (pd.Series(male_sample_means).std()/np.sqrt(1000))*1.96"
   ]
  },
  {
   "cell_type": "code",
   "execution_count": 116,
   "id": "a134f000",
   "metadata": {},
   "outputs": [],
   "source": [
    "upper_limit=pd.Series(male_sample_means).mean() + (pd.Series(male_sample_means).std()/np.sqrt(1000))*1.96"
   ]
  },
  {
   "cell_type": "code",
   "execution_count": 117,
   "id": "d97d9f6e",
   "metadata": {},
   "outputs": [
    {
     "data": {
      "text/plain": [
       "(9456.310177487258, 9475.545464512741)"
      ]
     },
     "execution_count": 117,
     "metadata": {},
     "output_type": "execute_result"
    }
   ],
   "source": [
    "lower_limit,upper_limit"
   ]
  },
  {
   "cell_type": "markdown",
   "id": "05b70bfb",
   "metadata": {},
   "source": [
    "We have 95 percentage Confidence that our mean lies between 9456.31 and 9475.54 for males"
   ]
  },
  {
   "cell_type": "code",
   "execution_count": 118,
   "id": "9509756b",
   "metadata": {},
   "outputs": [],
   "source": [
    "lower_limit_female=pd.Series(female_sample_means).mean() - (pd.Series(female_sample_means).std()/np.sqrt(1000))*1.96"
   ]
  },
  {
   "cell_type": "code",
   "execution_count": 119,
   "id": "a57e17d6",
   "metadata": {},
   "outputs": [],
   "source": [
    "upper_limit_female=pd.Series(female_sample_means).mean() + (pd.Series(female_sample_means).std()/np.sqrt(1000))*1.96"
   ]
  },
  {
   "cell_type": "code",
   "execution_count": 121,
   "id": "4a6c4cbb",
   "metadata": {},
   "outputs": [
    {
     "data": {
      "text/plain": [
       "(8765.778459337509, 8783.398300662482)"
      ]
     },
     "execution_count": 121,
     "metadata": {},
     "output_type": "execute_result"
    }
   ],
   "source": [
    "lower_limit_female,upper_limit_female"
   ]
  },
  {
   "cell_type": "markdown",
   "id": "ab168189",
   "metadata": {},
   "source": [
    "We have 95 percentage Confidence that our mean lies between 8765.77 and 8783.39 for females"
   ]
  },
  {
   "cell_type": "code",
   "execution_count": 122,
   "id": "62560b67",
   "metadata": {},
   "outputs": [],
   "source": [
    "# For 90 and 99 >> alpha - 0.1,0.01 >> alpha/2 - 0.05,0.005 >> z-score - 1.645,2.576"
   ]
  },
  {
   "cell_type": "code",
   "execution_count": 127,
   "id": "19407d67",
   "metadata": {},
   "outputs": [],
   "source": [
    "lower_limit_male_90 = pd.Series(male_sample_means).mean() - (pd.Series(male_sample_means).std()/np.sqrt(1000))*1.645\n",
    "lower_limit_male_99 = pd.Series(male_sample_means).mean() - (pd.Series(male_sample_means).std()/np.sqrt(1000))*2.576\n",
    "lower_limit_female_90 = pd.Series(female_sample_means).mean() - (pd.Series(female_sample_means).std()/np.sqrt(1000))*1.645\n",
    "lower_limit_female_99 = pd.Series(female_sample_means).mean() - (pd.Series(female_sample_means).std()/np.sqrt(1000))*2.576"
   ]
  },
  {
   "cell_type": "code",
   "execution_count": 128,
   "id": "9c2de9f9",
   "metadata": {},
   "outputs": [],
   "source": [
    "upper_limit_male_90 = pd.Series(male_sample_means).mean() + (pd.Series(male_sample_means).std()/np.sqrt(1000))*1.645\n",
    "upper_limit_male_99 = pd.Series(male_sample_means).mean() + (pd.Series(male_sample_means).std()/np.sqrt(1000))*2.576\n",
    "upper_limit_female_90 = pd.Series(female_sample_means).mean() + (pd.Series(female_sample_means).std()/np.sqrt(1000))*1.645\n",
    "upper_limit_female_99 = pd.Series(female_sample_means).mean() + (pd.Series(female_sample_means).std()/np.sqrt(1000))*2.576"
   ]
  },
  {
   "cell_type": "code",
   "execution_count": 129,
   "id": "53b81ba7",
   "metadata": {},
   "outputs": [
    {
     "data": {
      "text/plain": [
       "(9457.855870194662, 9473.999771805336)"
      ]
     },
     "execution_count": 129,
     "metadata": {},
     "output_type": "execute_result"
    }
   ],
   "source": [
    "lower_limit_male_90,upper_limit_male_90"
   ]
  },
  {
   "cell_type": "code",
   "execution_count": 130,
   "id": "b6c931e5",
   "metadata": {},
   "outputs": [
    {
     "data": {
      "text/plain": [
       "(9453.287489526108, 9478.56815247389)"
      ]
     },
     "execution_count": 130,
     "metadata": {},
     "output_type": "execute_result"
    }
   ],
   "source": [
    "lower_limit_male_99,upper_limit_male_99"
   ]
  },
  {
   "cell_type": "code",
   "execution_count": 131,
   "id": "f79d4aa8",
   "metadata": {},
   "outputs": [
    {
     "data": {
      "text/plain": [
       "(8767.19433944398, 8781.98242055601)"
      ]
     },
     "execution_count": 131,
     "metadata": {},
     "output_type": "execute_result"
    }
   ],
   "source": [
    "lower_limit_female_90,upper_limit_female_90"
   ]
  },
  {
   "cell_type": "code",
   "execution_count": 132,
   "id": "e09a8e0a",
   "metadata": {},
   "outputs": [
    {
     "data": {
      "text/plain": [
       "(8763.009627129299, 8786.167132870693)"
      ]
     },
     "execution_count": 132,
     "metadata": {},
     "output_type": "execute_result"
    }
   ],
   "source": [
    "lower_limit_female_99,upper_limit_female_99"
   ]
  },
  {
   "cell_type": "markdown",
   "id": "86e57c1e",
   "metadata": {},
   "source": [
    "We have 90 percentage Confidence that our mean lies between 9457.85 and 9473.99 for males\n",
    "We have 90 percentage Confidence that our mean lies between 8767.19 and 8781.98 for females"
   ]
  },
  {
   "cell_type": "raw",
   "id": "e26ee32b",
   "metadata": {},
   "source": [
    "We have 90 percentage Confidence that our mean lies between 9457.85 and 9473.99 for males \n",
    "We have 90 percentage Confidence that our mean lies between 8767.19 and 8781.98 for females"
   ]
  },
  {
   "cell_type": "raw",
   "id": "4f09b2b6",
   "metadata": {},
   "source": [
    "We have 99 percentage Confidence that our mean lies between 9453.28 and 9478.56 for males \n",
    "We have 99 percentage Confidence that our mean lies between 8763.00 and 8786.16 for females"
   ]
  },
  {
   "cell_type": "code",
   "execution_count": 133,
   "id": "9afcfe76",
   "metadata": {},
   "outputs": [
    {
     "data": {
      "text/plain": [
       "9464.689493690132"
      ]
     },
     "execution_count": 133,
     "metadata": {},
     "output_type": "execute_result"
    }
   ],
   "source": [
    "df[df['Gender']=='M']['Purchase'].mean()"
   ]
  },
  {
   "cell_type": "code",
   "execution_count": 134,
   "id": "b333e41f",
   "metadata": {},
   "outputs": [
    {
     "data": {
      "text/plain": [
       "8774.435767473875"
      ]
     },
     "execution_count": 134,
     "metadata": {},
     "output_type": "execute_result"
    }
   ],
   "source": [
    "df[df['Gender']=='F']['Purchase'].mean()"
   ]
  },
  {
   "cell_type": "code",
   "execution_count": null,
   "id": "856fdfd4",
   "metadata": {},
   "outputs": [],
   "source": [
    "Married vs Unmaarried"
   ]
  },
  {
   "cell_type": "code",
   "execution_count": 146,
   "id": "3e19a2d8",
   "metadata": {},
   "outputs": [
    {
     "data": {
      "text/plain": [
       "0.0    77225\n",
       "1.0    53392\n",
       "Name: Marital_Status, dtype: int64"
      ]
     },
     "execution_count": 146,
     "metadata": {},
     "output_type": "execute_result"
    }
   ],
   "source": [
    "df.Marital_Status.value_counts()"
   ]
  },
  {
   "cell_type": "code",
   "execution_count": 147,
   "id": "8a07a28c",
   "metadata": {},
   "outputs": [],
   "source": [
    "married_sample_means = [data[data['Marital_Status']==1.0]['Purchase'].sample(1000).mean() for i in range(1000)]"
   ]
  },
  {
   "cell_type": "code",
   "execution_count": 149,
   "id": "59a6a5ad",
   "metadata": {},
   "outputs": [],
   "source": [
    "unmarried_sample_means = [data[data['Marital_Status']==0.0]['Purchase'].sample(1000).mean() for i in range(1000)]"
   ]
  },
  {
   "cell_type": "code",
   "execution_count": 153,
   "id": "fe55d365",
   "metadata": {},
   "outputs": [
    {
     "data": {
      "image/png": "[encoded data removed]",
      "text/plain": [
       "<Figure size 360x360 with 1 Axes>"
      ]
     },
     "metadata": {
      "needs_background": "light"
     },
     "output_type": "display_data"
    }
   ],
   "source": [
    "plot_married = sbn.displot(married_sample_means,bins=25)\n",
    "plot_married.set(xlabel='Married Purchase Distribution', ylabel='Count')\n",
    "plt.show()\n",
    "\n"
   ]
  },
  {
   "cell_type": "code",
   "execution_count": 169,
   "id": "e4265287",
   "metadata": {},
   "outputs": [
    {
     "data": {
      "image/png": "[encoded data removed]",
      "text/plain": [
       "<Figure size 360x360 with 1 Axes>"
      ]
     },
     "metadata": {
      "needs_background": "light"
     },
     "output_type": "display_data"
    }
   ],
   "source": [
    "plot_unmarried = sbn.displot(unmarried_sample_means,bins=25,color='Red')\n",
    "plot_unmarried.set(xlabel='UNMarried Purchase Distribution', ylabel='Count')\n",
    "plt.show()"
   ]
  },
  {
   "cell_type": "code",
   "execution_count": 155,
   "id": "284ee536",
   "metadata": {},
   "outputs": [
    {
     "data": {
      "text/plain": [
       "9320.925749999993"
      ]
     },
     "execution_count": 155,
     "metadata": {},
     "output_type": "execute_result"
    }
   ],
   "source": [
    "pd.Series(married_sample_means).mean()"
   ]
  },
  {
   "cell_type": "code",
   "execution_count": 156,
   "id": "742b7a68",
   "metadata": {},
   "outputs": [
    {
     "data": {
      "text/plain": [
       "149.93161942436532"
      ]
     },
     "execution_count": 156,
     "metadata": {},
     "output_type": "execute_result"
    }
   ],
   "source": [
    "pd.Series(married_sample_means).std()"
   ]
  },
  {
   "cell_type": "code",
   "execution_count": 166,
   "id": "2e9773a2",
   "metadata": {},
   "outputs": [],
   "source": [
    "def limit_calculator(sample,accuracy,sample_size):\n",
    "    hmap={90:1.65,95:1.96,99:2.56}\n",
    "    lower_limit = pd.Series(sample).mean() - (pd.Series(sample).std()/np.sqrt(sample_size))*hmap[accuracy]\n",
    "    upper_limit = pd.Series(sample).mean() + (pd.Series(sample).std()/np.sqrt(sample_size))*hmap[accuracy]\n",
    "    return lower_limit,upper_limit"
   ]
  },
  {
   "cell_type": "code",
   "execution_count": 171,
   "id": "71bd1b9d",
   "metadata": {},
   "outputs": [],
   "source": [
    "married_lower,married_upper=limit_calculator(married_sample_means,95,1000)\n",
    "unmarried_lower,unmarried_upper=limit_calculator(unmarried_sample_means,95,1000)"
   ]
  },
  {
   "cell_type": "code",
   "execution_count": 172,
   "id": "fc1426e6",
   "metadata": {},
   "outputs": [
    {
     "data": {
      "text/plain": [
       "(9311.632891951085, 9330.218608048901)"
      ]
     },
     "execution_count": 172,
     "metadata": {},
     "output_type": "execute_result"
    }
   ],
   "source": [
    "married_lower,married_upper"
   ]
  },
  {
   "cell_type": "code",
   "execution_count": 173,
   "id": "ff5eeaf3",
   "metadata": {},
   "outputs": [
    {
     "data": {
      "text/plain": [
       "(9267.384330050021, 9287.536597949997)"
      ]
     },
     "execution_count": 173,
     "metadata": {},
     "output_type": "execute_result"
    }
   ],
   "source": [
    "unmarried_lower,unmarried_upper"
   ]
  },
  {
   "cell_type": "code",
   "execution_count": null,
   "id": "2c56249f",
   "metadata": {},
   "outputs": [],
   "source": []
  },
  {
   "cell_type": "markdown",
   "id": "0574b700",
   "metadata": {},
   "source": [
    "Married people spend around 9311 and 9330 whereas Unmarried Spend 9267and 9287 with 95% confidence"
   ]
  },
  {
   "cell_type": "code",
   "execution_count": 175,
   "id": "ff1429e0",
   "metadata": {},
   "outputs": [
    {
     "data": {
      "text/plain": [
       "26-35    51872\n",
       "36-45    26001\n",
       "18-25    24325\n",
       "46-50    10567\n",
       "51-55     9141\n",
       "55+       5008\n",
       "0-17      3703\n",
       "Name: Age, dtype: int64"
      ]
     },
     "execution_count": 175,
     "metadata": {},
     "output_type": "execute_result"
    }
   ],
   "source": [
    "df.Age.value_counts()"
   ]
  },
  {
   "cell_type": "code",
   "execution_count": 176,
   "id": "9b8f87b1",
   "metadata": {},
   "outputs": [],
   "source": [
    "def cal_samples(df,column_name,column_value,sample_size):\n",
    "    sample = [df[df[column_name]==column_value]['Purchase'].sample(sample_size).mean() for i in range(sample_size)]\n",
    "    return sample"
   ]
  },
  {
   "cell_type": "code",
   "execution_count": 178,
   "id": "05d3f1d4",
   "metadata": {},
   "outputs": [],
   "source": [
    "sample_17 = cal_samples(df,'Age','0-17',1000)\n",
    "sample_18_25 = cal_samples(df,'Age','18-25',1000)\n",
    "sample_26_35 = cal_samples(df,'Age','26-35',1000)\n",
    "sample_36_45 = cal_samples(df,'Age','36-45',1000)\n",
    "sample_46_50 = cal_samples(df,'Age','46-50',1000)\n",
    "sample_51_55 = cal_samples(df,'Age','51-55',1000)\n",
    "sample_56 = cal_samples(df,'Age','55+',1000)"
   ]
  },
  {
   "cell_type": "code",
   "execution_count": 179,
   "id": "d477b660",
   "metadata": {},
   "outputs": [],
   "source": [
    "sample_17_lower,sample_17_upper=limit_calculator(sample_17,95,1000)\n",
    "sample_18_25_lower,sample_18_25_upper=limit_calculator(sample_18_25,95,1000)\n",
    "sample_26_35_lower,sample_26_35_upper=limit_calculator(sample_26_35,95,1000)\n",
    "sample_45_lower,sample_45_upper=limit_calculator(sample_36_45,95,1000)\n",
    "sample_50_lower,sample_50_upper=limit_calculator(sample_46_50,95,1000)\n",
    "sample_55_lower,sample_55_upper=limit_calculator(sample_51_55,95,1000)\n",
    "sample_56_lower,sample_56_upper=limit_calculator(sample_56,95,1000)\n",
    "\n"
   ]
  },
  {
   "cell_type": "code",
   "execution_count": 184,
   "id": "29f55ac9",
   "metadata": {},
   "outputs": [],
   "source": [
    "y_axis=[sample_17_lower,sample_18_25_lower,sample_26_35_lower,sample_45_lower,sample_50_lower,sample_55_lower,sample_56_lower]\n",
    "y_axis_up=[sample_17_upper,sample_18_25_upper,sample_26_35_upper,sample_45_upper,sample_50_upper,sample_55_upper,sample_56_upper]\n",
    "x_axis=['0-17','18-25','26-35','36-45','46-50','51-55','55+']"
   ]
  },
  {
   "cell_type": "code",
   "execution_count": 195,
   "id": "9d41038b",
   "metadata": {},
   "outputs": [
    {
     "data": {
      "image/png": "[encoded data removed]",
      "text/plain": [
       "<Figure size 432x288 with 1 Axes>"
      ]
     },
     "metadata": {
      "needs_background": "light"
     },
     "output_type": "display_data"
    }
   ],
   "source": [
    "plt.plot(x_axis,y_axis)\n",
    "plt.plot(x_axis,y_axis_up,color='red')\n",
    "plt.xlabel(\"Age Group\")\n",
    "plt.ylabel(\"Avg Purchase\")\n",
    "plt.show()"
   ]
  },
  {
   "cell_type": "code",
   "execution_count": 187,
   "id": "c046337e",
   "metadata": {},
   "outputs": [],
   "source": [
    "# We observe customers from age group 51-55 are spending more but there is significant drop to age group from 46-50"
   ]
  },
  {
   "cell_type": "code",
   "execution_count": 197,
   "id": "513a6fb1",
   "metadata": {},
   "outputs": [
    {
     "data": {
      "text/plain": [
       "9465.925"
      ]
     },
     "execution_count": 197,
     "metadata": {},
     "output_type": "execute_result"
    }
   ],
   "source": [
    "(9456.31+9475.54)/2"
   ]
  },
  {
   "cell_type": "code",
   "execution_count": 198,
   "id": "3cbac970",
   "metadata": {},
   "outputs": [
    {
     "data": {
      "text/plain": [
       "17549.16"
      ]
     },
     "execution_count": 198,
     "metadata": {},
     "output_type": "execute_result"
    }
   ],
   "source": [
    "8765.77 +8783.39"
   ]
  },
  {
   "cell_type": "code",
   "execution_count": 199,
   "id": "32dc0b34",
   "metadata": {},
   "outputs": [
    {
     "data": {
      "text/plain": [
       "8774.58"
      ]
     },
     "execution_count": 199,
     "metadata": {},
     "output_type": "execute_result"
    }
   ],
   "source": [
    "17549.16/2"
   ]
  },
  {
   "cell_type": "code",
   "execution_count": null,
   "id": "5dedd13e",
   "metadata": {},
   "outputs": [],
   "source": []
  }
 ],
 "metadata": {
  "kernelspec": {
   "display_name": "Python 3",
   "language": "python",
   "name": "python3"
  },
  "language_info": {
   "codemirror_mode": {
    "name": "ipython",
    "version": 3
   },
   "file_extension": ".py",
   "mimetype": "text/x-python",
   "name": "python",
   "nbconvert_exporter": "python",
   "pygments_lexer": "ipython3",
   "version": "3.8.8"
  }
 },
 "nbformat": 4,
 "nbformat_minor": 5
}
